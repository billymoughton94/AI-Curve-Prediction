{
  "nbformat": 4,
  "nbformat_minor": 0,
  "metadata": {
    "colab": {
      "name": "ECS629U_AI_Coursework_Billy_Moughton_170631215.ipynb",
      "provenance": [],
      "collapsed_sections": [],
      "include_colab_link": true
    },
    "kernelspec": {
      "display_name": "Python 3",
      "name": "python3"
    }
  },
  "cells": [
    {
      "cell_type": "markdown",
      "metadata": {
        "id": "view-in-github",
        "colab_type": "text"
      },
      "source": [
        "<a href=\"https://colab.research.google.com/github/billymoughton94/AI-Curve-Prediction/blob/main/ECS629U_AI_Coursework_Billy_Moughton_170631215.ipynb\" target=\"_parent\"><img src=\"https://colab.research.google.com/assets/colab-badge.svg\" alt=\"Open In Colab\"/></a>"
      ]
    },
    {
      "cell_type": "code",
      "metadata": {
        "id": "hoOd0OTl7Bdg"
      },
      "source": [
        "import torch\n",
        "import torch.nn as nn\n",
        "from torch.utils import data\n",
        "import matplotlib.pyplot as plt"
      ],
      "execution_count": null,
      "outputs": []
    },
    {
      "cell_type": "markdown",
      "metadata": {
        "id": "uHXpJoga2BYg"
      },
      "source": [
        "# 1. Training Sample Generation\n",
        "\n",
        "\n",
        "\n",
        "*   2000 functions modeled\n",
        "*   Each containing 40 ***x*** points and corresponding ***y = f(x)*** points\n",
        "\n"
      ]
    },
    {
      "cell_type": "code",
      "metadata": {
        "id": "ndpkoKvN8FPi",
        "colab": {
          "base_uri": "https://localhost:8080/",
          "height": 282
        },
        "outputId": "99ba321a-5a11-4aec-d295-cf41c1ce99be"
      },
      "source": [
        "Nf = 2000       # number of functions\n",
        "Npts = 40       # number of x points in each function\n",
        "x = torch.zeros(Nf, Npts, 1)\n",
        "for k in range(Nf):\n",
        "    x[k,:,0] = torch.linspace(-2, 2, Npts)\n",
        "\n",
        "x += torch.rand_like(x)*0.1\n",
        "a = -2 + 4*torch.rand(Nf).view(-1,1).repeat(1, Npts).unsqueeze(2)\n",
        "y = a * torch.sin(x + a)  # y value for each f(x)\n",
        "plt.plot(x[0, :], y[0, :])\n",
        "plt.plot(x[1, :], y[1, :])\n",
        "plt.plot(x[2, :], y[2, :])\n",
        "plt.plot(x[3, :], y[3, :])"
      ],
      "execution_count": null,
      "outputs": [
        {
          "output_type": "execute_result",
          "data": {
            "text/plain": [
              "[<matplotlib.lines.Line2D at 0x7f33405f5b90>]"
            ]
          },
          "metadata": {
            "tags": []
          },
          "execution_count": 2
        },
        {
          "output_type": "display_data",
          "data": {
            "image/png": "[encoded data removed]",
            "text/plain": [
              "<Figure size 432x288 with 1 Axes>"
            ]
          },
          "metadata": {
            "tags": [],
            "needs_background": "light"
          }
        }
      ]
    },
    {
      "cell_type": "markdown",
      "metadata": {
        "id": "uY95tMW9242d"
      },
      "source": [
        "# 2. Dataset and DataLoader initialization\n",
        "\n",
        "\n",
        "*   DataLoader created to hold ***x*** and ***y*** values for every function\n",
        "*   Training DataLoader created on the DataLoader, with a provided batch size of 16 and shuffle set to True\n",
        "  *   16 random samples (functions) fed to the models at a time\n"
      ]
    },
    {
      "cell_type": "code",
      "metadata": {
        "id": "DoZZnE0T7M3I"
      },
      "source": [
        "dataset = data.TensorDataset(x, y)    # dataset containing the x and y values for all 2000 functions\n",
        "batch_size = 16      # the number of samples which will appear in each batch iteration                   \n",
        "train_iter = data.DataLoader(dataset, batch_size, shuffle = True)   # assigns random samples to batches and allows iteration through them"
      ],
      "execution_count": null,
      "outputs": []
    },
    {
      "cell_type": "markdown",
      "metadata": {
        "id": "5BfK-Vve4RlN"
      },
      "source": [
        "# 3. Encoder MLP\n",
        "\n",
        "*   Will take an ***Nc*** number of of ***(Xc, Yc)*** context pairs per batch -> a randomly sliced set of ***(X, Y)*** pairs in the current batch set\n",
        "*   Encoder will predict the function used to generate the correpsonding ***Yc*** for each ***Xc*** for each sample in the batch set: a vector ***r_c*** of dimension ***r_dim*** \n",
        "*   An average for each sample will be taken from ***r_c*** to produce ***RC***: representing the average function used in the sample, used as input to the Decoder\n",
        "\n"
      ]
    },
    {
      "cell_type": "code",
      "metadata": {
        "id": "50Zt1Rbi_cYX"
      },
      "source": [
        "class Encoder_MLP(torch.nn.Module):\n",
        "  def __init__(self, num_inputs, num_hidden, num_outputs): # inputs: (Xc, Yc) pairs, outputs: RC function prediction for each sample\n",
        "    super(Encoder_MLP, self).__init__()\n",
        "    self.num_inputs = num_inputs\n",
        "    self.num_hidden = num_hidden\n",
        "    self.num_outputs = num_outputs\n",
        "    self.Lin1 = nn.Linear(self.num_inputs, self.num_hidden)\n",
        "    self.Act1 = nn.Sigmoid()    # activation function allows for non-linearity\n",
        "    self.Lin2 = nn.Linear(self.num_hidden, self.num_outputs)\n",
        "\n",
        "  def forward(self, x):\n",
        "    x = self.Lin1(x) # hidden layer\n",
        "    x = self.Act1(x) # activation\n",
        "    x = self.Lin2(x) # output layer\n",
        "    return torch.mean(x, 1, True) # averages the r_c values to get RC"
      ],
      "execution_count": null,
      "outputs": []
    },
    {
      "cell_type": "markdown",
      "metadata": {
        "id": "kv-8uH6c5pBu"
      },
      "source": [
        "# 4. Decoder MLP\n",
        "\n",
        "*   Will take the entire ***X*** tensor, concatenated with ***RC*** as inputs\n",
        "*   Using the predicted function RC for each row, the Decoder predicts ***Y_hat*** for each ***X*** in each sample\n",
        "\n"
      ]
    },
    {
      "cell_type": "code",
      "metadata": {
        "id": "Eb-u53Wsa1Rv"
      },
      "source": [
        "class Decoder_MLP(torch.nn.Module):\n",
        "  def __init__(self, num_inputs, num_hidden, num_outputs): # inputs: (Xt, RC) pairs, outputs: y_pred prediction for each x in each sample\n",
        "    super(Decoder_MLP, self).__init__()\n",
        "    self.num_inputs = num_inputs\n",
        "    self.num_hidden = num_hidden\n",
        "    self.num_outputs = num_outputs\n",
        "    self.Lin1 = nn.Linear(self.num_inputs, self.num_hidden)\n",
        "    self.Act1 = nn.Sigmoid()    # activation function allows for non-linearity\n",
        "    self.Lin2 = nn.Linear(self.num_hidden, self.num_outputs)\n",
        "\n",
        "  def forward(self, x):\n",
        "    x = self.Lin1(x) # hidden layer\n",
        "    x = self.Act1(x) # activation\n",
        "    x = self.Lin2(x) # output layer\n",
        "    return x    # y_pred"
      ],
      "execution_count": null,
      "outputs": []
    },
    {
      "cell_type": "markdown",
      "metadata": {
        "id": "ShMYIyCn6rHz"
      },
      "source": [
        "#  5. MLP Initialisation\n",
        "\n",
        "*   Instances created for Encoder and Decoder models, each containing number of input layer neurons, number of hidden layer neurons and number of output layer neurons\n",
        "*   Number of output neurons for the Encoder reflects the ***r_dim*** of ***RC***, which means the Decoder must have +1 input size (to account for the concatenated ***X*** tensor)\n",
        "*   Weights and biases of both models are initialized using helper function *init_weights()*\n",
        "*   A normal distribution will be provided for the weights, with biases set to 0\n",
        "*   Mean Squared Error loss function is created which will be used for back propagation later when adjusting the model parameters\n",
        "*   Two AdamW optimizers are created for each MLP. Customized rates and weight decay set for both."
      ]
    },
    {
      "cell_type": "code",
      "metadata": {
        "id": "PQSvr56X66_f"
      },
      "source": [
        "def init_weights(m):\n",
        "    if type(m) == nn.Linear:\n",
        "        torch.nn.init.normal_(m.weight, mean = 0, std = 0.01) # provides model weights a Guassian distribution\n",
        "        torch.nn.init.zeros_(m.bias)    # initiliases model biases to be 0"
      ],
      "execution_count": null,
      "outputs": []
    },
    {
      "cell_type": "code",
      "metadata": {
        "id": "6dmMnZfyImrs"
      },
      "source": [
        "my_Encoder = Encoder_MLP(2, 40, 8)\n",
        "my_Decoder = Decoder_MLP(9, 30, 1)\n",
        "my_Encoder.apply(init_weights)\n",
        "my_Decoder.apply(init_weights)\n",
        "my_loss = nn.MSELoss()    # loss function which will help find gradients for parameter adjustment\n",
        "encoder_opt = torch.optim.AdamW(params = my_Encoder.parameters(), lr = 0.03, weight_decay = 0.0004) # optimzers which will impove the model as training progresses\n",
        "decoder_opt = torch.optim.AdamW(params = my_Decoder.parameters(), lr = 0.004, weight_decay = 0.0004)"
      ],
      "execution_count": null,
      "outputs": []
    },
    {
      "cell_type": "markdown",
      "metadata": {
        "id": "K_vaNbQE8k4G"
      },
      "source": [
        "# 6. Context Pair Selection\n",
        "*    Helper function which will randomly sample ***Nc*** different ***(X, Y)*** pairs for each batch"
      ]
    },
    {
      "cell_type": "code",
      "metadata": {
        "id": "z9fPZmS21vkV"
      },
      "source": [
        "import random\n",
        "def generateContexts(X, Y, width):\n",
        "  numCtx = random.randint(1, width)   # select a random number of (x,y) points between 1 and width (40 for the training set)\n",
        "  contextSet = torch.Tensor(len(X), numCtx, 2)  # create the skeleton for the (Xc, Yc) context set\n",
        "  for i in range(numCtx):\n",
        "    indice = random.randint(0, width - 1)   # pick a random (X,Y) pair to use\n",
        "    contextSet[:, i, 0] = X[:, indice, 0]\n",
        "    contextSet[:, i, 1] = Y[:, indice, 0]\n",
        "  return contextSet"
      ],
      "execution_count": null,
      "outputs": []
    },
    {
      "cell_type": "markdown",
      "metadata": {
        "id": "9uI8gYJR-5uS"
      },
      "source": [
        "# 7. Model training\n",
        "\n",
        "*   For a given number of epochs, the entire training set will be modelled against. Once per epoch\n",
        "*   For each epoch, the DataLoader iterates through the batches and runs them through the two MLPs\n",
        "*   After getting output ***y_hat***, the loss function calculates how far off ***y_hat*** values are from ***Y*** and computes the gradients representing the direction of adjustment for each parameter in the Encoder and Decoder\n",
        "*   Process repeats until all epochs have been covered, by which point the Models should have been optimized\n",
        "\n"
      ]
    },
    {
      "cell_type": "code",
      "metadata": {
        "id": "MTiuaCbuYZV_",
        "colab": {
          "base_uri": "https://localhost:8080/",
          "height": 1000
        },
        "outputId": "ae72ff6f-ec8c-4cbc-aeec-d8908a421be9"
      },
      "source": [
        "def train(my_Encoder, my_Decoder, train_iter, loss, encoder_opt, decoder_opt, epochs):\n",
        "  my_Encoder.train() # sets both MLPs to train mode\n",
        "  my_Decoder.train()\n",
        "  epoch_losses = [] # used for plotting the losses of epochs later on\n",
        "  for epoch in range(epochs): # loops through each epoch\n",
        "    running_loss = [] # keeps track of the total accumulated loss in the current epoch\n",
        "    for X, Y in train_iter: # loops through each batch, placing that batch's X,Y pairs in the respective variables\n",
        "      encoder_opt.zero_grad() # gradients must be reset from the previous iteration to calculate how much to adjust the weights for this iteration\n",
        "      decoder_opt.zero_grad()\n",
        "      enc_input = generateContexts(X, Y, 40)  # generate the (Xc, Yc) context pairs for this batch\n",
        "      RC = my_Encoder(enc_input)    # obtains the predicted functions RC from the Encoder\n",
        "      RC = torch.repeat_interleave(RC, len(X[0]), 1) # repeats the RC values so that it may be concatenated with Xt\n",
        "      dec_input = torch.cat((RC, X), 2) # joins RC with Xt as input for Decoder\n",
        "      y_hat = my_Decoder(dec_input) # obtains predicted y values for each x in the batch\n",
        "      loss = my_loss(y_hat, Y)  # finds the difference between actual and predicted y values\n",
        "      loss.backward()   # using the loss, back propagates to find the degree and direction to which each parameter must be adjusted\n",
        "      encoder_opt.step() # adjusts the Encoder and Decoder parameters using the gradients obtained from back propagation\n",
        "      decoder_opt.step()\n",
        "\n",
        "      running_loss.append(loss.item())  # loss for this batch is added to the running total for this epoch\n",
        "    epoch_losses.append(sum(running_loss) / len(running_loss)) # calculates the average loss in this epoch\n",
        "    print('Loss at epoch {0}: {1}'.format(epoch + 1, round(sum(running_loss) / len(running_loss), 4)))\n",
        "  print('Average loss: {0}' .format(sum(epoch_losses) / len(epoch_losses)))\n",
        "  print('Final epoch loss: {0}' .format(epoch_losses[-1]))\n",
        " \n",
        "  with torch.no_grad(): # training output examples and epoch loss are plotted\n",
        "    plt.figure()\n",
        "    plt.subplot(111)\n",
        "    plt.grid()\n",
        "\n",
        "    plt.plot(X[0, :, 0], Y[0, :, 0])\n",
        "    plt.plot(enc_input[0, :, 0], enc_input[0, :, 1], '*')\n",
        "    plt.plot(X[0, :, 0], y_hat[0, :].detach())\n",
        "\n",
        "    plt.plot(X[1, :, 0], Y[1, :, 0])\n",
        "    plt.plot(enc_input[1, :, 0], enc_input[1, :, 1], '*')\n",
        "    plt.plot(X[1, :, 0], y_hat[1, :].detach())\n",
        "  \n",
        "    plt.xlabel(\"X\")\n",
        "    plt.ylabel(\"Y_PRED\")\n",
        "\n",
        "    plt.figure()\n",
        "    plt.subplot(111)\n",
        "    plt.plot(epoch_losses, label = \"Train Loss\")\n",
        "    plt.legend()\n",
        "    plt.xlabel(\"Epoch\")\n",
        "    plt.ylabel(\"Loss\")\n",
        "    return epoch_losses\n",
        "\n",
        "train_losses = train(my_Encoder, my_Decoder, train_iter, my_loss, encoder_opt, decoder_opt, 200) # begins training"
      ],
      "execution_count": null,
      "outputs": [
        {
          "output_type": "stream",
          "text": [
            "Loss at epoch 1: 0.418\n",
            "Loss at epoch 2: 0.3604\n",
            "Loss at epoch 3: 0.356\n",
            "Loss at epoch 4: 0.3572\n",
            "Loss at epoch 5: 0.3535\n",
            "Loss at epoch 6: 0.3503\n",
            "Loss at epoch 7: 0.3074\n",
            "Loss at epoch 8: 0.1894\n",
            "Loss at epoch 9: 0.1393\n",
            "Loss at epoch 10: 0.1036\n",
            "Loss at epoch 11: 0.097\n",
            "Loss at epoch 12: 0.0735\n",
            "Loss at epoch 13: 0.0712\n",
            "Loss at epoch 14: 0.0687\n",
            "Loss at epoch 15: 0.0534\n",
            "Loss at epoch 16: 0.0723\n",
            "Loss at epoch 17: 0.0631\n",
            "Loss at epoch 18: 0.0371\n",
            "Loss at epoch 19: 0.0404\n",
            "Loss at epoch 20: 0.0469\n",
            "Loss at epoch 21: 0.0431\n",
            "Loss at epoch 22: 0.0311\n",
            "Loss at epoch 23: 0.0405\n",
            "Loss at epoch 24: 0.0214\n",
            "Loss at epoch 25: 0.0256\n",
            "Loss at epoch 26: 0.0271\n",
            "Loss at epoch 27: 0.0223\n",
            "Loss at epoch 28: 0.0275\n",
            "Loss at epoch 29: 0.0227\n",
            "Loss at epoch 30: 0.0281\n",
            "Loss at epoch 31: 0.0107\n",
            "Loss at epoch 32: 0.0315\n",
            "Loss at epoch 33: 0.0246\n",
            "Loss at epoch 34: 0.0278\n",
            "Loss at epoch 35: 0.0192\n",
            "Loss at epoch 36: 0.0165\n",
            "Loss at epoch 37: 0.0315\n",
            "Loss at epoch 38: 0.0164\n",
            "Loss at epoch 39: 0.015\n",
            "Loss at epoch 40: 0.0236\n",
            "Loss at epoch 41: 0.0199\n",
            "Loss at epoch 42: 0.0181\n",
            "Loss at epoch 43: 0.0161\n",
            "Loss at epoch 44: 0.0167\n",
            "Loss at epoch 45: 0.0182\n",
            "Loss at epoch 46: 0.0154\n",
            "Loss at epoch 47: 0.0204\n",
            "Loss at epoch 48: 0.0227\n",
            "Loss at epoch 49: 0.0198\n",
            "Loss at epoch 50: 0.0149\n",
            "Loss at epoch 51: 0.0208\n",
            "Loss at epoch 52: 0.0132\n",
            "Loss at epoch 53: 0.0301\n",
            "Loss at epoch 54: 0.0217\n",
            "Loss at epoch 55: 0.0304\n",
            "Loss at epoch 56: 0.0268\n",
            "Loss at epoch 57: 0.0141\n",
            "Loss at epoch 58: 0.0141\n",
            "Loss at epoch 59: 0.014\n",
            "Loss at epoch 60: 0.0095\n",
            "Loss at epoch 61: 0.0133\n",
            "Loss at epoch 62: 0.0185\n",
            "Loss at epoch 63: 0.0123\n",
            "Loss at epoch 64: 0.0166\n",
            "Loss at epoch 65: 0.0176\n",
            "Loss at epoch 66: 0.025\n",
            "Loss at epoch 67: 0.0181\n",
            "Loss at epoch 68: 0.0168\n",
            "Loss at epoch 69: 0.0065\n",
            "Loss at epoch 70: 0.0077\n",
            "Loss at epoch 71: 0.0124\n",
            "Loss at epoch 72: 0.0177\n",
            "Loss at epoch 73: 0.0148\n",
            "Loss at epoch 74: 0.0171\n",
            "Loss at epoch 75: 0.0183\n",
            "Loss at epoch 76: 0.0127\n",
            "Loss at epoch 77: 0.0187\n",
            "Loss at epoch 78: 0.0192\n",
            "Loss at epoch 79: 0.0152\n",
            "Loss at epoch 80: 0.0135\n",
            "Loss at epoch 81: 0.0122\n",
            "Loss at epoch 82: 0.0161\n",
            "Loss at epoch 83: 0.013\n",
            "Loss at epoch 84: 0.0166\n",
            "Loss at epoch 85: 0.0105\n",
            "Loss at epoch 86: 0.022\n",
            "Loss at epoch 87: 0.0149\n",
            "Loss at epoch 88: 0.0139\n",
            "Loss at epoch 89: 0.0112\n",
            "Loss at epoch 90: 0.0082\n",
            "Loss at epoch 91: 0.0131\n",
            "Loss at epoch 92: 0.0113\n",
            "Loss at epoch 93: 0.0112\n",
            "Loss at epoch 94: 0.0171\n",
            "Loss at epoch 95: 0.0178\n",
            "Loss at epoch 96: 0.0108\n",
            "Loss at epoch 97: 0.024\n",
            "Loss at epoch 98: 0.0097\n",
            "Loss at epoch 99: 0.0202\n",
            "Loss at epoch 100: 0.014\n",
            "Loss at epoch 101: 0.0103\n",
            "Loss at epoch 102: 0.0186\n",
            "Loss at epoch 103: 0.0089\n",
            "Loss at epoch 104: 0.0202\n",
            "Loss at epoch 105: 0.0139\n",
            "Loss at epoch 106: 0.016\n",
            "Loss at epoch 107: 0.0082\n",
            "Loss at epoch 108: 0.0121\n",
            "Loss at epoch 109: 0.02\n",
            "Loss at epoch 110: 0.0113\n",
            "Loss at epoch 111: 0.0219\n",
            "Loss at epoch 112: 0.0115\n",
            "Loss at epoch 113: 0.0145\n",
            "Loss at epoch 114: 0.02\n",
            "Loss at epoch 115: 0.0147\n",
            "Loss at epoch 116: 0.0206\n",
            "Loss at epoch 117: 0.0097\n",
            "Loss at epoch 118: 0.0078\n",
            "Loss at epoch 119: 0.0126\n",
            "Loss at epoch 120: 0.01\n",
            "Loss at epoch 121: 0.0074\n",
            "Loss at epoch 122: 0.0109\n",
            "Loss at epoch 123: 0.012\n",
            "Loss at epoch 124: 0.0204\n",
            "Loss at epoch 125: 0.0124\n",
            "Loss at epoch 126: 0.0117\n",
            "Loss at epoch 127: 0.016\n",
            "Loss at epoch 128: 0.0164\n",
            "Loss at epoch 129: 0.0152\n",
            "Loss at epoch 130: 0.0098\n",
            "Loss at epoch 131: 0.0113\n",
            "Loss at epoch 132: 0.0139\n",
            "Loss at epoch 133: 0.012\n",
            "Loss at epoch 134: 0.0099\n",
            "Loss at epoch 135: 0.0136\n",
            "Loss at epoch 136: 0.0106\n",
            "Loss at epoch 137: 0.0152\n",
            "Loss at epoch 138: 0.0104\n",
            "Loss at epoch 139: 0.0137\n",
            "Loss at epoch 140: 0.0098\n",
            "Loss at epoch 141: 0.0187\n",
            "Loss at epoch 142: 0.0212\n",
            "Loss at epoch 143: 0.0081\n",
            "Loss at epoch 144: 0.0091\n",
            "Loss at epoch 145: 0.0086\n",
            "Loss at epoch 146: 0.0108\n",
            "Loss at epoch 147: 0.0166\n",
            "Loss at epoch 148: 0.0118\n",
            "Loss at epoch 149: 0.0144\n",
            "Loss at epoch 150: 0.0126\n",
            "Loss at epoch 151: 0.0117\n",
            "Loss at epoch 152: 0.0102\n",
            "Loss at epoch 153: 0.0179\n",
            "Loss at epoch 154: 0.0266\n",
            "Loss at epoch 155: 0.0104\n",
            "Loss at epoch 156: 0.0153\n",
            "Loss at epoch 157: 0.0114\n",
            "Loss at epoch 158: 0.008\n",
            "Loss at epoch 159: 0.0175\n",
            "Loss at epoch 160: 0.0123\n",
            "Loss at epoch 161: 0.0077\n",
            "Loss at epoch 162: 0.0172\n",
            "Loss at epoch 163: 0.0146\n",
            "Loss at epoch 164: 0.0168\n",
            "Loss at epoch 165: 0.0215\n",
            "Loss at epoch 166: 0.0143\n",
            "Loss at epoch 167: 0.0087\n",
            "Loss at epoch 168: 0.0124\n",
            "Loss at epoch 169: 0.0088\n",
            "Loss at epoch 170: 0.0069\n",
            "Loss at epoch 171: 0.0157\n",
            "Loss at epoch 172: 0.0138\n",
            "Loss at epoch 173: 0.0115\n",
            "Loss at epoch 174: 0.0113\n",
            "Loss at epoch 175: 0.0121\n",
            "Loss at epoch 176: 0.0183\n",
            "Loss at epoch 177: 0.0144\n",
            "Loss at epoch 178: 0.0099\n",
            "Loss at epoch 179: 0.0108\n",
            "Loss at epoch 180: 0.011\n",
            "Loss at epoch 181: 0.0138\n",
            "Loss at epoch 182: 0.0132\n",
            "Loss at epoch 183: 0.0086\n",
            "Loss at epoch 184: 0.0099\n",
            "Loss at epoch 185: 0.0085\n",
            "Loss at epoch 186: 0.0085\n",
            "Loss at epoch 187: 0.0211\n",
            "Loss at epoch 188: 0.0154\n",
            "Loss at epoch 189: 0.0066\n",
            "Loss at epoch 190: 0.011\n",
            "Loss at epoch 191: 0.0085\n",
            "Loss at epoch 192: 0.0066\n",
            "Loss at epoch 193: 0.0115\n",
            "Loss at epoch 194: 0.0103\n",
            "Loss at epoch 195: 0.0096\n",
            "Loss at epoch 196: 0.0243\n",
            "Loss at epoch 197: 0.0118\n",
            "Loss at epoch 198: 0.018\n",
            "Loss at epoch 199: 0.0121\n",
            "Loss at epoch 200: 0.0151\n",
            "Average loss: 0.03176187349186749\n",
            "Final epoch loss: 0.015080703998915852\n"
          ],
          "name": "stdout"
        },
        {
          "output_type": "display_data",
          "data": {
            "image/png": "[encoded data removed]",
            "text/plain": [
              "<Figure size 432x288 with 1 Axes>"
            ]
          },
          "metadata": {
            "tags": [],
            "needs_background": "light"
          }
        },
        {
          "output_type": "display_data",
          "data": {
            "image/png": "[encoded data removed]",
            "text/plain": [
              "<Figure size 432x288 with 1 Axes>"
            ]
          },
          "metadata": {
            "tags": [],
            "needs_background": "light"
          }
        }
      ]
    },
    {
      "cell_type": "markdown",
      "metadata": {
        "id": "Zdyu6DpGJo1i"
      },
      "source": [
        "# 8. Model Testing\n",
        "\n",
        "\n",
        "*   Having trained the model, another test dataset is created, using 500 functions.\n",
        "*   Will be the final evaluation of the models"
      ]
    },
    {
      "cell_type": "code",
      "metadata": {
        "id": "VTrv9Nr7qkuL"
      },
      "source": [
        "def test(my_Encoder, my_Decoder, test_iter, epochs): # same format as training function, except optimization is not performed\n",
        "  my_Encoder.eval() # evaluation mode is now active\n",
        "  my_Decoder.eval()\n",
        "  epoch_losses = []\n",
        "  for epoch in range(epochs):\n",
        "    running_loss = []\n",
        "    for x, y in test_iter:\n",
        "      RC = my_Encoder(generateContexts(x, y, x.shape[1]))\n",
        "      RC = torch.repeat_interleave(RC, len(x[0]), 1)\n",
        "      dec = torch.cat((RC, x), 2)\n",
        "      y_hat = my_Decoder(dec)\n",
        "      loss = my_loss(y, y_hat)\n",
        "      running_loss.append(loss.item())\n",
        "    epoch_losses.append(sum(running_loss) / len(running_loss))\n",
        "    print('Loss at epoch {0}: {1}'.format(epoch + 1, round(sum(running_loss) / len(running_loss), 4)))\n",
        "\n",
        "  print('Average loss: {0}' .format(sum(epoch_losses) / len(epoch_losses)))\n",
        "  print('Final epoch loss: {0}' .format(epoch_losses[-1]))\n",
        "  return epoch_losses"
      ],
      "execution_count": null,
      "outputs": []
    },
    {
      "cell_type": "code",
      "metadata": {
        "id": "XMgR6W_ynqU0",
        "colab": {
          "base_uri": "https://localhost:8080/"
        },
        "outputId": "f55e8afb-d76c-4643-d32d-bfa3944b0cdd"
      },
      "source": [
        "# Test sample used for training. Same format as original function generator with less samples\n",
        "Nf = 500\n",
        "Npts = 40\n",
        "x = torch.zeros(Nf, Npts, 1)\n",
        "for k in range(Nf):\n",
        "    x[k,:,0] = torch.linspace(-2, 2, Npts)\n",
        "x += torch.rand_like(x)*0.1\n",
        "a = -2 + 4*torch.rand(Nf).view(-1,1).repeat(1, Npts).unsqueeze(2)\n",
        "y = a * torch.sin(x + a)\n",
        "\n",
        "dataset = data.TensorDataset(x, y)\n",
        "batch_size = 16\n",
        "test_iter = data.DataLoader(dataset, batch_size, shuffle = True)\n",
        "\n",
        "test_losses = test(my_Encoder, my_Decoder, test_iter, 200) # begins testing"
      ],
      "execution_count": null,
      "outputs": [
        {
          "output_type": "stream",
          "text": [
            "Loss at epoch 1: 0.012\n",
            "Loss at epoch 2: 0.0074\n",
            "Loss at epoch 3: 0.0061\n",
            "Loss at epoch 4: 0.0089\n",
            "Loss at epoch 5: 0.004\n",
            "Loss at epoch 6: 0.0172\n",
            "Loss at epoch 7: 0.0057\n",
            "Loss at epoch 8: 0.0138\n",
            "Loss at epoch 9: 0.0196\n",
            "Loss at epoch 10: 0.0152\n",
            "Loss at epoch 11: 0.0166\n",
            "Loss at epoch 12: 0.0181\n",
            "Loss at epoch 13: 0.0196\n",
            "Loss at epoch 14: 0.015\n",
            "Loss at epoch 15: 0.0121\n",
            "Loss at epoch 16: 0.01\n",
            "Loss at epoch 17: 0.0063\n",
            "Loss at epoch 18: 0.005\n",
            "Loss at epoch 19: 0.0064\n",
            "Loss at epoch 20: 0.0125\n",
            "Loss at epoch 21: 0.0209\n",
            "Loss at epoch 22: 0.0226\n",
            "Loss at epoch 23: 0.005\n",
            "Loss at epoch 24: 0.0067\n",
            "Loss at epoch 25: 0.0081\n",
            "Loss at epoch 26: 0.0072\n",
            "Loss at epoch 27: 0.0131\n",
            "Loss at epoch 28: 0.0102\n",
            "Loss at epoch 29: 0.0088\n",
            "Loss at epoch 30: 0.0097\n",
            "Loss at epoch 31: 0.0314\n",
            "Loss at epoch 32: 0.0045\n",
            "Loss at epoch 33: 0.0083\n",
            "Loss at epoch 34: 0.0099\n",
            "Loss at epoch 35: 0.0087\n",
            "Loss at epoch 36: 0.0142\n",
            "Loss at epoch 37: 0.0174\n",
            "Loss at epoch 38: 0.0078\n",
            "Loss at epoch 39: 0.0131\n",
            "Loss at epoch 40: 0.0051\n",
            "Loss at epoch 41: 0.0063\n",
            "Loss at epoch 42: 0.0194\n",
            "Loss at epoch 43: 0.0046\n",
            "Loss at epoch 44: 0.0043\n",
            "Loss at epoch 45: 0.0095\n",
            "Loss at epoch 46: 0.0085\n",
            "Loss at epoch 47: 0.0105\n",
            "Loss at epoch 48: 0.0134\n",
            "Loss at epoch 49: 0.0125\n",
            "Loss at epoch 50: 0.0119\n",
            "Loss at epoch 51: 0.0099\n",
            "Loss at epoch 52: 0.0127\n",
            "Loss at epoch 53: 0.011\n",
            "Loss at epoch 54: 0.0069\n",
            "Loss at epoch 55: 0.0082\n",
            "Loss at epoch 56: 0.0114\n",
            "Loss at epoch 57: 0.0064\n",
            "Loss at epoch 58: 0.0138\n",
            "Loss at epoch 59: 0.0042\n",
            "Loss at epoch 60: 0.0122\n",
            "Loss at epoch 61: 0.0096\n",
            "Loss at epoch 62: 0.0061\n",
            "Loss at epoch 63: 0.0115\n",
            "Loss at epoch 64: 0.005\n",
            "Loss at epoch 65: 0.0052\n",
            "Loss at epoch 66: 0.0144\n",
            "Loss at epoch 67: 0.0111\n",
            "Loss at epoch 68: 0.0101\n",
            "Loss at epoch 69: 0.01\n",
            "Loss at epoch 70: 0.005\n",
            "Loss at epoch 71: 0.008\n",
            "Loss at epoch 72: 0.0072\n",
            "Loss at epoch 73: 0.0115\n",
            "Loss at epoch 74: 0.0058\n",
            "Loss at epoch 75: 0.012\n",
            "Loss at epoch 76: 0.009\n",
            "Loss at epoch 77: 0.0051\n",
            "Loss at epoch 78: 0.016\n",
            "Loss at epoch 79: 0.0163\n",
            "Loss at epoch 80: 0.0173\n",
            "Loss at epoch 81: 0.0068\n",
            "Loss at epoch 82: 0.0091\n",
            "Loss at epoch 83: 0.0059\n",
            "Loss at epoch 84: 0.0053\n",
            "Loss at epoch 85: 0.0093\n",
            "Loss at epoch 86: 0.0155\n",
            "Loss at epoch 87: 0.011\n",
            "Loss at epoch 88: 0.0094\n",
            "Loss at epoch 89: 0.0055\n",
            "Loss at epoch 90: 0.0086\n",
            "Loss at epoch 91: 0.0097\n",
            "Loss at epoch 92: 0.0169\n",
            "Loss at epoch 93: 0.0079\n",
            "Loss at epoch 94: 0.0076\n",
            "Loss at epoch 95: 0.018\n",
            "Loss at epoch 96: 0.0061\n",
            "Loss at epoch 97: 0.016\n",
            "Loss at epoch 98: 0.0042\n",
            "Loss at epoch 99: 0.0053\n",
            "Loss at epoch 100: 0.0102\n",
            "Loss at epoch 101: 0.0078\n",
            "Loss at epoch 102: 0.0085\n",
            "Loss at epoch 103: 0.0082\n",
            "Loss at epoch 104: 0.0214\n",
            "Loss at epoch 105: 0.0075\n",
            "Loss at epoch 106: 0.0054\n",
            "Loss at epoch 107: 0.0063\n",
            "Loss at epoch 108: 0.0162\n",
            "Loss at epoch 109: 0.0128\n",
            "Loss at epoch 110: 0.0126\n",
            "Loss at epoch 111: 0.0181\n",
            "Loss at epoch 112: 0.0087\n",
            "Loss at epoch 113: 0.0095\n",
            "Loss at epoch 114: 0.0061\n",
            "Loss at epoch 115: 0.0071\n",
            "Loss at epoch 116: 0.0047\n",
            "Loss at epoch 117: 0.0078\n",
            "Loss at epoch 118: 0.0144\n",
            "Loss at epoch 119: 0.008\n",
            "Loss at epoch 120: 0.0043\n",
            "Loss at epoch 121: 0.0051\n",
            "Loss at epoch 122: 0.0149\n",
            "Loss at epoch 123: 0.0047\n",
            "Loss at epoch 124: 0.0082\n",
            "Loss at epoch 125: 0.0117\n",
            "Loss at epoch 126: 0.004\n",
            "Loss at epoch 127: 0.0167\n",
            "Loss at epoch 128: 0.0084\n",
            "Loss at epoch 129: 0.0194\n",
            "Loss at epoch 130: 0.0047\n",
            "Loss at epoch 131: 0.0082\n",
            "Loss at epoch 132: 0.0094\n",
            "Loss at epoch 133: 0.0092\n",
            "Loss at epoch 134: 0.0057\n",
            "Loss at epoch 135: 0.0269\n",
            "Loss at epoch 136: 0.0154\n",
            "Loss at epoch 137: 0.0064\n",
            "Loss at epoch 138: 0.0096\n",
            "Loss at epoch 139: 0.0061\n",
            "Loss at epoch 140: 0.0187\n",
            "Loss at epoch 141: 0.0071\n",
            "Loss at epoch 142: 0.013\n",
            "Loss at epoch 143: 0.0233\n",
            "Loss at epoch 144: 0.005\n",
            "Loss at epoch 145: 0.0125\n",
            "Loss at epoch 146: 0.0078\n",
            "Loss at epoch 147: 0.0072\n",
            "Loss at epoch 148: 0.0089\n",
            "Loss at epoch 149: 0.0061\n",
            "Loss at epoch 150: 0.021\n",
            "Loss at epoch 151: 0.0191\n",
            "Loss at epoch 152: 0.0113\n",
            "Loss at epoch 153: 0.0076\n",
            "Loss at epoch 154: 0.0132\n",
            "Loss at epoch 155: 0.0154\n",
            "Loss at epoch 156: 0.0062\n",
            "Loss at epoch 157: 0.0079\n",
            "Loss at epoch 158: 0.0119\n",
            "Loss at epoch 159: 0.0188\n",
            "Loss at epoch 160: 0.0065\n",
            "Loss at epoch 161: 0.0076\n",
            "Loss at epoch 162: 0.0108\n",
            "Loss at epoch 163: 0.006\n",
            "Loss at epoch 164: 0.0072\n",
            "Loss at epoch 165: 0.0131\n",
            "Loss at epoch 166: 0.0129\n",
            "Loss at epoch 167: 0.0067\n",
            "Loss at epoch 168: 0.0129\n",
            "Loss at epoch 169: 0.0084\n",
            "Loss at epoch 170: 0.0195\n",
            "Loss at epoch 171: 0.0212\n",
            "Loss at epoch 172: 0.0062\n",
            "Loss at epoch 173: 0.0119\n",
            "Loss at epoch 174: 0.0113\n",
            "Loss at epoch 175: 0.0145\n",
            "Loss at epoch 176: 0.0097\n",
            "Loss at epoch 177: 0.0066\n",
            "Loss at epoch 178: 0.005\n",
            "Loss at epoch 179: 0.0199\n",
            "Loss at epoch 180: 0.0115\n",
            "Loss at epoch 181: 0.0148\n",
            "Loss at epoch 182: 0.0081\n",
            "Loss at epoch 183: 0.008\n",
            "Loss at epoch 184: 0.0197\n",
            "Loss at epoch 185: 0.0178\n",
            "Loss at epoch 186: 0.0074\n",
            "Loss at epoch 187: 0.0141\n",
            "Loss at epoch 188: 0.0102\n",
            "Loss at epoch 189: 0.0056\n",
            "Loss at epoch 190: 0.0189\n",
            "Loss at epoch 191: 0.0122\n",
            "Loss at epoch 192: 0.0081\n",
            "Loss at epoch 193: 0.0125\n",
            "Loss at epoch 194: 0.0074\n",
            "Loss at epoch 195: 0.0096\n",
            "Loss at epoch 196: 0.0062\n",
            "Loss at epoch 197: 0.0044\n",
            "Loss at epoch 198: 0.0287\n",
            "Loss at epoch 199: 0.005\n",
            "Loss at epoch 200: 0.0052\n",
            "Average loss: 0.0106590075148506\n",
            "Final epoch loss: 0.0052049310943402816\n"
          ],
          "name": "stdout"
        }
      ]
    },
    {
      "cell_type": "markdown",
      "metadata": {
        "id": "03k94-IKKC0j"
      },
      "source": [
        "# 9. Training and Test Loss\n",
        "\n",
        "*   Plots the training loss against the test loss"
      ]
    },
    {
      "cell_type": "code",
      "metadata": {
        "id": "75_b21r367I8",
        "colab": {
          "base_uri": "https://localhost:8080/",
          "height": 296
        },
        "outputId": "15a9f00d-1c1c-42e7-bd7c-e2dae1fc6fae"
      },
      "source": [
        "# Plots the returned epoch loss arrays from training and testing. Used to compare performance on both\n",
        "plt.figure()\n",
        "plt.subplot(111)\n",
        "plt.plot(train_losses, label = \"Train Loss\")\n",
        "plt.plot(test_losses, label = \"Test Loss\")\n",
        "plt.legend()\n",
        "plt.xlabel(\"Epoch\")\n",
        "plt.ylabel(\"Loss\")"
      ],
      "execution_count": null,
      "outputs": [
        {
          "output_type": "execute_result",
          "data": {
            "text/plain": [
              "Text(0, 0.5, 'Loss')"
            ]
          },
          "metadata": {
            "tags": []
          },
          "execution_count": 12
        },
        {
          "output_type": "display_data",
          "data": {
            "image/png": "[encoded data removed]",
            "text/plain": [
              "<Figure size 432x288 with 1 Axes>"
            ]
          },
          "metadata": {
            "tags": [],
            "needs_background": "light"
          }
        }
      ]
    },
    {
      "cell_type": "markdown",
      "metadata": {
        "id": "X7qY3ZH_KPIA"
      },
      "source": [
        "# 10. Results from the 6 Functions"
      ]
    },
    {
      "cell_type": "code",
      "metadata": {
        "id": "8RBTxYgkvI6i",
        "colab": {
          "base_uri": "https://localhost:8080/",
          "height": 516
        },
        "outputId": "14489fbe-bd2d-4d73-d00e-b682ad4aec85"
      },
      "source": [
        "# Testing on the 6 provided functions\n",
        "from google.colab import drive\n",
        "drive.mount('/content/gdrive', force_remount=True) #mount google drive\n",
        "import pickle\n",
        "path_to_the_pickle = '/content/gdrive/MyDrive/Colab Notebooks/test_data.pkl'\n",
        "test_data =pickle.load(open(path_to_the_pickle,'rb'))\n",
        "\n",
        "plt.figure(figsize = (14, 8))\n",
        "for i in range(6):\n",
        "  # 6 test functions\n",
        "  name= 'function_num_{}'.format(i +1)\n",
        "  x_c=test_data[name]['context_pairs'][0]\n",
        "  y_c=test_data[name]['context_pairs'][1]\n",
        "  x_t =test_data[name]['x']\n",
        "  RC = my_Encoder(torch.cat((x_c, y_c), 2))\n",
        "  RC = torch.repeat_interleave(RC, len(x[0]), 1)\n",
        "  dec = torch.cat((RC, x_t), 2)\n",
        "  y_pred = my_Decoder(dec)\n",
        "\n",
        "\n",
        "  plt.subplot(2, 3, i+1)\n",
        "  plt.ylim(-2, 2)\n",
        "  plt.grid()\n",
        "  plt.plot(x_c[0, :, 0], y_c[0, :, 0], '*')\n",
        "  plt.plot(x_t[0, :, 0], y_pred[0, :, 0].detach().numpy())\n",
        "  plt.title(\"Function {0} Prediction\" .format(i +1))"
      ],
      "execution_count": null,
      "outputs": [
        {
          "output_type": "stream",
          "text": [
            "Mounted at /content/gdrive\n"
          ],
          "name": "stdout"
        },
        {
          "output_type": "display_data",
          "data": {
            "image/png": "[encoded data removed]",
            "text/plain": [
              "<Figure size 1008x576 with 6 Axes>"
            ]
          },
          "metadata": {
            "tags": [],
            "needs_background": "light"
          }
        }
      ]
    }
  ]
}